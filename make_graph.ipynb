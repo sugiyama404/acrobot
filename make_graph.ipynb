{
  "nbformat": 4,
  "nbformat_minor": 0,
  "metadata": {
    "colab": {
      "name": "make_graph.ipynb",
      "provenance": [],
      "collapsed_sections": [],
      "authorship_tag": "ABX9TyNzp9NK80hQXf/mXdyOFy4O",
      "include_colab_link": true
    },
    "kernelspec": {
      "name": "python3",
      "display_name": "Python 3"
    },
    "language_info": {
      "name": "python"
    }
  },
  "cells": [
    {
      "cell_type": "markdown",
      "metadata": {
        "id": "view-in-github",
        "colab_type": "text"
      },
      "source": [
        "<a href=\"https://colab.research.google.com/github/sugiyama404/acrobot/blob/main/make_graph.ipynb\" target=\"_parent\"><img src=\"https://colab.research.google.com/assets/colab-badge.svg\" alt=\"Open In Colab\"/></a>"
      ]
    },
    {
      "cell_type": "code",
      "metadata": {
        "id": "px-OgNxA9DYO"
      },
      "source": [
        "import matplotlib.pyplot as plt\n",
        "import pandas as pd\n",
        "import numpy as np\n",
        "from scipy.interpolate import interp1d"
      ],
      "execution_count": 23,
      "outputs": []
    },
    {
      "cell_type": "code",
      "metadata": {
        "colab": {
          "base_uri": "https://localhost:8080/",
          "height": 297
        },
        "id": "AusVzVlQArOa",
        "outputId": "38b70d2e-7b79-4893-c83e-d10f8493417f"
      },
      "source": [
        "df1 = pd.read_csv('LnMlpPolicy_win.csv', names=['LnMlpPolicy'])\n",
        "df2 = pd.read_csv('MlpPolicy_win.csv', names=['MlpPolicy'])\n",
        "df_i = pd.concat([df1, df2], axis=1)\n",
        "df_i['num'] =  [0,25000,50000,75000,100000,125000,150000]\n",
        "df = df_i.set_index('num')\n",
        "df"
      ],
      "execution_count": 14,
      "outputs": [
        {
          "output_type": "execute_result",
          "data": {
            "text/html": [
              "<div>\n",
              "<style scoped>\n",
              "    .dataframe tbody tr th:only-of-type {\n",
              "        vertical-align: middle;\n",
              "    }\n",
              "\n",
              "    .dataframe tbody tr th {\n",
              "        vertical-align: top;\n",
              "    }\n",
              "\n",
              "    .dataframe thead th {\n",
              "        text-align: right;\n",
              "    }\n",
              "</style>\n",
              "<table border=\"1\" class=\"dataframe\">\n",
              "  <thead>\n",
              "    <tr style=\"text-align: right;\">\n",
              "      <th></th>\n",
              "      <th>LnMlpPolicy</th>\n",
              "      <th>MlpPolicy</th>\n",
              "    </tr>\n",
              "    <tr>\n",
              "      <th>num</th>\n",
              "      <th></th>\n",
              "      <th></th>\n",
              "    </tr>\n",
              "  </thead>\n",
              "  <tbody>\n",
              "    <tr>\n",
              "      <th>0</th>\n",
              "      <td>20</td>\n",
              "      <td>20</td>\n",
              "    </tr>\n",
              "    <tr>\n",
              "      <th>25000</th>\n",
              "      <td>20</td>\n",
              "      <td>91</td>\n",
              "    </tr>\n",
              "    <tr>\n",
              "      <th>50000</th>\n",
              "      <td>117</td>\n",
              "      <td>20</td>\n",
              "    </tr>\n",
              "    <tr>\n",
              "      <th>75000</th>\n",
              "      <td>114</td>\n",
              "      <td>109</td>\n",
              "    </tr>\n",
              "    <tr>\n",
              "      <th>100000</th>\n",
              "      <td>122</td>\n",
              "      <td>118</td>\n",
              "    </tr>\n",
              "    <tr>\n",
              "      <th>125000</th>\n",
              "      <td>23</td>\n",
              "      <td>117</td>\n",
              "    </tr>\n",
              "    <tr>\n",
              "      <th>150000</th>\n",
              "      <td>114</td>\n",
              "      <td>124</td>\n",
              "    </tr>\n",
              "  </tbody>\n",
              "</table>\n",
              "</div>"
            ],
            "text/plain": [
              "        LnMlpPolicy  MlpPolicy\n",
              "num                           \n",
              "0                20         20\n",
              "25000            20         91\n",
              "50000           117         20\n",
              "75000           114        109\n",
              "100000          122        118\n",
              "125000           23        117\n",
              "150000          114        124"
            ]
          },
          "metadata": {
            "tags": []
          },
          "execution_count": 14
        }
      ]
    },
    {
      "cell_type": "code",
      "metadata": {
        "id": "BmDpOdbYIc9j"
      },
      "source": [
        "def spline_interp(in_x, in_y):\n",
        "    out_x = np.linspace(np.min(in_x), np.max(in_x), np.size(in_x)*100) # もとのxの個数より多いxを用意\n",
        "    func_spline = interp1d(in_x, in_y, kind='cubic') # cubicは3次のスプライン曲線\n",
        "    out_y = func_spline(out_x) # func_splineはscipyオリジナルの型\n",
        "\n",
        "    return out_x, out_y"
      ],
      "execution_count": 24,
      "outputs": []
    },
    {
      "cell_type": "code",
      "metadata": {
        "id": "UIaPih3pJ_MD"
      },
      "source": [
        "def moving_avg(in_x, in_y):\n",
        "    np_y_conv = np.convolve(in_y, np.ones(3)/float(3), mode='valid') # 畳み込む\n",
        "    out_x_dat = np.linspace(np.min(in_x), np.max(in_x), np.size(np_y_conv))\n",
        "\n",
        "    return out_x_dat, np_y_conv"
      ],
      "execution_count": 28,
      "outputs": []
    },
    {
      "cell_type": "code",
      "metadata": {
        "id": "u2nc6P-tIfP7"
      },
      "source": [
        "x = df.index.values\n",
        "y = df['LnMlpPolicy']\n",
        "\n",
        "out_x, out_y = moving_avg(x,y)\n",
        "\n",
        "x2 = df.index.values\n",
        "y2 = df['MlpPolicy']\n",
        "\n",
        "out_x2, out_y2 = moving_avg(x2,y2)"
      ],
      "execution_count": 32,
      "outputs": []
    },
    {
      "cell_type": "code",
      "metadata": {
        "colab": {
          "base_uri": "https://localhost:8080/",
          "height": 295
        },
        "id": "7jLzYaABAhu7",
        "outputId": "974a5fb4-d4df-4651-c976-bcb8764dfa96"
      },
      "source": [
        "plt.plot(out_x, out_y, label=\"LnMlpPolicy Of MovingAverage\")\n",
        "plt.plot(out_x2, out_y2, label=\"MlpPolicy Of MovingAverage\")\n",
        "\n",
        "plt.scatter(x=df.index, y=df['LnMlpPolicy'], label=\"LnMlpPolicy\")\n",
        "plt.scatter(x=df.index, y=df['MlpPolicy'], label=\"MlpPolicy\")\n",
        "\n",
        "plt.title(\"Learning Ccurve\")\n",
        "plt.xlabel(\"Rewards\")\n",
        "plt.ylabel(\"Number of Timestemps\")\n",
        "plt.legend(bbox_to_anchor=(1, 0.13), loc='lower right', borderaxespad=1, fontsize=8)\n",
        "\n",
        "plt.show()"
      ],
      "execution_count": 49,
      "outputs": [
        {
          "output_type": "display_data",
          "data": {
            "image/png": "[encoded data removed]",
            "text/plain": [
              "<Figure size 432x288 with 1 Axes>"
            ]
          },
          "metadata": {
            "tags": [],
            "needs_background": "light"
          }
        }
      ]
    }
  ]
}